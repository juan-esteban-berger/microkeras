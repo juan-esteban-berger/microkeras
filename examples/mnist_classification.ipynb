{
  "nbformat": 4,
  "nbformat_minor": 0,
  "metadata": {
    "colab": {
      "provenance": []
    },
    "kernelspec": {
      "name": "python3",
      "display_name": "Python 3"
    },
    "language_info": {
      "name": "python"
    }
  },
  "cells": [
    {
      "cell_type": "markdown",
      "source": [
        "# MNIST Classification Example\n",
        "\n",
        "Let's walk through a complete example using MicroKeras to classify handwritten digits from the MNIST dataset. This example will demonstrate how to load data, create a model, train it, make predictions, and save/load the model."
      ],
      "metadata": {
        "id": "GqB4RgiY1u5H"
      }
    },
    {
      "cell_type": "markdown",
      "source": [
        "### Importing Dependencies\n",
        "\n",
        "First, let's install and import the necessary modules:\n",
        "\n",
        "*Note: You might need to restart your Google Colab Session after installing microkeras.*\n"
      ],
      "metadata": {
        "id": "qQYwKwa04YET"
      }
    },
    {
      "cell_type": "code",
      "execution_count": null,
      "metadata": {
        "id": "bwAS4YCFQe95"
      },
      "outputs": [],
      "source": [
        "!pip install microkeras"
      ]
    },
    {
      "cell_type": "code",
      "source": [
        "import numpy as np\n",
        "from microkeras.models import Sequential\n",
        "from microkeras.layers import Dense\n",
        "from microkeras.optimizers import SGD\n",
        "from microkeras.datasets import mnist"
      ],
      "metadata": {
        "id": "LtVtaauZ0P3_"
      },
      "execution_count": null,
      "outputs": []
    },
    {
      "cell_type": "markdown",
      "source": [
        "### Loading and Preprocessing Data\n",
        "\n",
        "Next, we'll load the MNIST dataset and preprocess it:"
      ],
      "metadata": {
        "id": "sxhhUVCO4fia"
      }
    },
    {
      "cell_type": "code",
      "source": [
        "# Load and preprocess MNIST data\n",
        "(X_train, y_train), (X_test, y_test) = mnist.load_data()\n",
        "\n",
        "# Reshape and normalize the input data\n",
        "X_train = X_train.reshape(X_train.shape[0], -1)\n",
        "X_test = X_test.reshape(X_test.shape[0], -1)\n",
        "\n",
        "# One-hot encode the labels\n",
        "y_train = np.eye(10)[y_train]\n",
        "y_test = np.eye(10)[y_test]\n",
        "\n",
        "print(\"Data shapes:\")\n",
        "print(f\"X_train: {X_train.shape}, y_train: {y_train.shape}\")\n",
        "print(f\"X_test: {X_test.shape}, y_test: {y_test.shape}\")"
      ],
      "metadata": {
        "colab": {
          "base_uri": "https://localhost:8080/"
        },
        "id": "WPMMyaD_0Ram",
        "outputId": "f817374e-ff39-4f1a-fe35-5abf356a6d7c"
      },
      "execution_count": 3,
      "outputs": [
        {
          "output_type": "stream",
          "name": "stdout",
          "text": [
            "Data shapes:\n",
            "X_train: (56000, 784), y_train: (56000, 10)\n",
            "X_test: (14000, 784), y_test: (14000, 10)\n"
          ]
        }
      ]
    },
    {
      "cell_type": "markdown",
      "source": [
        "### Creating the Model\n",
        "\n",
        "Now, let's create our Sequential model:\n"
      ],
      "metadata": {
        "id": "h5Z9XjEN4naa"
      }
    },
    {
      "cell_type": "code",
      "source": [
        "model = Sequential([\n",
        "    Dense(200, activation='sigmoid', input_shape=(784,)),\n",
        "    Dense(200, activation='sigmoid'),\n",
        "    Dense(10, activation='softmax')\n",
        "])"
      ],
      "metadata": {
        "id": "vjYyWuws0Ssv"
      },
      "execution_count": 4,
      "outputs": []
    },
    {
      "cell_type": "markdown",
      "source": [
        "This model consists of two hidden layers with sigmoid activation and an output layer with softmax activation, suitable for multi-class classification.\n",
        "\n"
      ],
      "metadata": {
        "id": "M8z1j_A14sTB"
      }
    },
    {
      "cell_type": "markdown",
      "source": [
        "### Compiling the Model\n",
        "\n",
        "We'll compile the model using Stochastic Gradient Descent (SGD) as the optimizer and Categorical Cross-Entropy as the loss function:"
      ],
      "metadata": {
        "id": "eyxk6Kf94uH2"
      }
    },
    {
      "cell_type": "code",
      "source": [
        "optimizer = SGD(learning_rate=0.1)\n",
        "model.compile(optimizer=optimizer,\n",
        "              loss='categorical_crossentropy',\n",
        "              metrics=['accuracy'])"
      ],
      "metadata": {
        "id": "3GYWC6FA0UXF"
      },
      "execution_count": 5,
      "outputs": []
    },
    {
      "cell_type": "markdown",
      "source": [
        "### Training the Model\n",
        "\n",
        "Let's train the model for 10 epochs with a batch size of 32:\n"
      ],
      "metadata": {
        "id": "zc0wotGs4zib"
      }
    },
    {
      "cell_type": "code",
      "source": [
        "history = model.fit(X_train,\n",
        "                    y_train,\n",
        "                    batch_size=16,\n",
        "                    epochs=10)"
      ],
      "metadata": {
        "colab": {
          "base_uri": "https://localhost:8080/"
        },
        "id": "9d5gPBcu0VhT",
        "outputId": "d54a57ad-ef60-4187-f626-2f0fe45b7b32"
      },
      "execution_count": 6,
      "outputs": [
        {
          "output_type": "stream",
          "name": "stdout",
          "text": [
            "Epoch 1/10\n"
          ]
        },
        {
          "output_type": "stream",
          "name": "stderr",
          "text": [
            "Batch 3500/3500 - Loss: 5.0194, Acc: 0.9062: : 3712it [00:42, 86.48it/s] \n"
          ]
        },
        {
          "output_type": "stream",
          "name": "stdout",
          "text": [
            "Epoch 2/10\n"
          ]
        },
        {
          "output_type": "stream",
          "name": "stderr",
          "text": [
            "Batch 3500/3500 - Loss: 1.4785, Acc: 0.9824: : 3712it [00:21, 172.67it/s]\n"
          ]
        },
        {
          "output_type": "stream",
          "name": "stdout",
          "text": [
            "Epoch 3/10\n"
          ]
        },
        {
          "output_type": "stream",
          "name": "stderr",
          "text": [
            "Batch 3500/3500 - Loss: 1.3456, Acc: 0.9824: : 3712it [00:23, 161.27it/s]\n"
          ]
        },
        {
          "output_type": "stream",
          "name": "stdout",
          "text": [
            "Epoch 4/10\n"
          ]
        },
        {
          "output_type": "stream",
          "name": "stderr",
          "text": [
            "Batch 3500/3500 - Loss: 1.0620, Acc: 0.9902: : 3712it [00:36, 101.68it/s]\n"
          ]
        },
        {
          "output_type": "stream",
          "name": "stdout",
          "text": [
            "Epoch 5/10\n"
          ]
        },
        {
          "output_type": "stream",
          "name": "stderr",
          "text": [
            "Batch 3500/3500 - Loss: 0.8673, Acc: 0.9922: : 3712it [00:22, 166.20it/s]\n"
          ]
        },
        {
          "output_type": "stream",
          "name": "stdout",
          "text": [
            "Epoch 6/10\n"
          ]
        },
        {
          "output_type": "stream",
          "name": "stderr",
          "text": [
            "Batch 3500/3500 - Loss: 0.7536, Acc: 0.9941: : 3712it [00:23, 160.07it/s]\n"
          ]
        },
        {
          "output_type": "stream",
          "name": "stdout",
          "text": [
            "Epoch 7/10\n"
          ]
        },
        {
          "output_type": "stream",
          "name": "stderr",
          "text": [
            "Batch 3500/3500 - Loss: 0.4995, Acc: 0.9941: : 3712it [00:22, 164.22it/s]\n"
          ]
        },
        {
          "output_type": "stream",
          "name": "stdout",
          "text": [
            "Epoch 8/10\n"
          ]
        },
        {
          "output_type": "stream",
          "name": "stderr",
          "text": [
            "Batch 3500/3500 - Loss: 0.3545, Acc: 0.9980: : 3712it [00:22, 164.42it/s]\n"
          ]
        },
        {
          "output_type": "stream",
          "name": "stdout",
          "text": [
            "Epoch 9/10\n"
          ]
        },
        {
          "output_type": "stream",
          "name": "stderr",
          "text": [
            "Batch 3500/3500 - Loss: 0.5201, Acc: 0.9961: : 3712it [00:23, 160.70it/s]\n"
          ]
        },
        {
          "output_type": "stream",
          "name": "stdout",
          "text": [
            "Epoch 10/10\n"
          ]
        },
        {
          "output_type": "stream",
          "name": "stderr",
          "text": [
            "Batch 3500/3500 - Loss: 0.3332, Acc: 0.9980: : 3712it [00:22, 163.70it/s]\n"
          ]
        }
      ]
    },
    {
      "cell_type": "markdown",
      "source": [
        "### Plotting Training History\n",
        "\n",
        "We can plot the training history using Matplotlib:\n"
      ],
      "metadata": {
        "id": "ITBKHXQW427l"
      }
    },
    {
      "cell_type": "code",
      "source": [
        "# Plot training history\n",
        "import matplotlib.pyplot as plt\n",
        "\n",
        "plt.figure(figsize=(12, 4))\n",
        "plt.subplot(1, 2, 1)\n",
        "plt.plot(history['accuracy'], label='Training Accuracy')\n",
        "plt.title('Model Accuracy')\n",
        "plt.ylabel('Accuracy')\n",
        "plt.xlabel('Epoch')\n",
        "plt.legend()\n",
        "\n",
        "plt.subplot(1, 2, 2)\n",
        "plt.plot(history['loss'], label='Training Loss')\n",
        "plt.title('Model Loss')\n",
        "plt.ylabel('Loss')\n",
        "plt.xlabel('Epoch')\n",
        "plt.legend()\n",
        "\n",
        "plt.tight_layout()\n",
        "plt.show()"
      ],
      "metadata": {
        "colab": {
          "base_uri": "https://localhost:8080/",
          "height": 427
        },
        "id": "cNfCxbj10Xuk",
        "outputId": "a7aab923-27ce-479e-dbc6-7c1ad625d94c"
      },
      "execution_count": 7,
      "outputs": [
        {
          "output_type": "display_data",
          "data": {
            "text/plain": [
              "<Figure size 1200x400 with 2 Axes>"
            ],
            "image/png": "[encoded data removed]"
          },
          "metadata": {}
        }
      ]
    },
    {
      "cell_type": "markdown",
      "source": [
        "### Evaluating the Model\n",
        "\n",
        "After training, we can evaluate the model on the test set:\n"
      ],
      "metadata": {
        "id": "I_RoHt3649ws"
      }
    },
    {
      "cell_type": "code",
      "source": [
        "test_loss, test_accuracy = model.evaluate(X_test, y_test)\n",
        "print(f\"Test accuracy: {test_accuracy:.4f}\")"
      ],
      "metadata": {
        "colab": {
          "base_uri": "https://localhost:8080/"
        },
        "id": "HD7T4o-g0uBD",
        "outputId": "cda2fea6-c9ff-4bbd-b565-bf5d6e335c34"
      },
      "execution_count": 8,
      "outputs": [
        {
          "output_type": "stream",
          "name": "stdout",
          "text": [
            "Test accuracy: 0.9684\n"
          ]
        }
      ]
    },
    {
      "cell_type": "markdown",
      "source": [
        "### Making Predictions\n",
        "\n",
        "Let's make predictions for the first 5 test samples:\n"
      ],
      "metadata": {
        "id": "a0hujn7h5CFi"
      }
    },
    {
      "cell_type": "code",
      "source": [
        "predictions = model.predict(X_test[:5])\n",
        "print(\"Predictions for the first 5 test samples:\")\n",
        "print(np.argmax(predictions, axis=1))\n",
        "print(\"Actual labels:\")\n",
        "print(np.argmax(y_test[:5], axis=1))\n",
        "\n",
        "# Visualize the predictions\n",
        "plt.figure(figsize=(12, 4))\n",
        "for i in range(5):\n",
        "    plt.subplot(1, 5, i+1)\n",
        "    plt.imshow(X_test[i].reshape(28, 28), cmap='gray')\n",
        "    plt.title(f\"Pred: {np.argmax(predictions[i])}\\nTrue: {np.argmax(y_test[i])}\")\n",
        "    plt.axis('off')\n",
        "plt.tight_layout()\n",
        "plt.show()"
      ],
      "metadata": {
        "colab": {
          "base_uri": "https://localhost:8080/",
          "height": 406
        },
        "id": "v03uq8Z80ZgW",
        "outputId": "753595ba-a640-4ffe-ede3-97fb70d5e854"
      },
      "execution_count": 9,
      "outputs": [
        {
          "output_type": "stream",
          "name": "stdout",
          "text": [
            "Predictions for the first 5 test samples:\n",
            "[8 4 8 7 7]\n",
            "Actual labels:\n",
            "[8 4 8 7 7]\n"
          ]
        },
        {
          "output_type": "display_data",
          "data": {
            "text/plain": [
              "<Figure size 1200x400 with 5 Axes>"
            ],
            "image/png": "[encoded data removed]"
          },
          "metadata": {}
        }
      ]
    },
    {
      "cell_type": "markdown",
      "source": [
        "### Saving and Loading the Model\n",
        "\n",
        "MicroKeras allows you to save and load models:\n"
      ],
      "metadata": {
        "id": "T-ZS8OJp5HOy"
      }
    },
    {
      "cell_type": "code",
      "source": [
        "# Save the model\n",
        "model.save('mnist_model.json')\n",
        "\n",
        "# Load the model\n",
        "loaded_model = Sequential.load('mnist_model.json')\n",
        "\n",
        "# Compile the loaded model\n",
        "loaded_model.compile(optimizer=optimizer,\n",
        "                     loss='categorical_crossentropy',\n",
        "                     metrics=['accuracy'])\n",
        "\n",
        "# Evaluate the loaded model\n",
        "loaded_test_loss, loaded_test_accuracy = loaded_model.evaluate(X_test, y_test)\n",
        "print(f\"Loaded model test accuracy: {loaded_test_accuracy:.4f}\")"
      ],
      "metadata": {
        "colab": {
          "base_uri": "https://localhost:8080/"
        },
        "id": "etg5Vc100doj",
        "outputId": "92da0193-bdd6-41fc-f3be-3610fe36c8a2"
      },
      "execution_count": 10,
      "outputs": [
        {
          "output_type": "stream",
          "name": "stdout",
          "text": [
            "Loaded model test accuracy: 0.9684\n"
          ]
        }
      ]
    },
    {
      "cell_type": "markdown",
      "source": [
        "### Viewing Training History\n",
        "\n",
        "Finally, let's print out the training history:\n"
      ],
      "metadata": {
        "id": "OVGjYrR45LLA"
      }
    },
    {
      "cell_type": "code",
      "source": [
        "print(\"\\nTraining History:\")\n",
        "print(\"Epoch\\tAccuracy\\tLoss\")\n",
        "for epoch, (accuracy, loss) in enumerate(zip(history['accuracy'], history['loss']), 1):\n",
        "    print(f\"{epoch}\\t{accuracy:.4f}\\t{loss:.4f}\")"
      ],
      "metadata": {
        "colab": {
          "base_uri": "https://localhost:8080/"
        },
        "id": "PKNlyXTS0gX2",
        "outputId": "7ff676bf-d9b5-47a1-a95e-c0ae082603ed"
      },
      "execution_count": 11,
      "outputs": [
        {
          "output_type": "stream",
          "name": "stdout",
          "text": [
            "\n",
            "Training History:\n",
            "Epoch\tAccuracy\tLoss\n",
            "1\t0.9333\t12837.3193\n",
            "2\t0.9523\t9266.4003\n",
            "3\t0.9604\t7531.2823\n",
            "4\t0.9660\t6332.7681\n",
            "5\t0.9729\t5126.9446\n",
            "6\t0.9771\t4377.7893\n",
            "7\t0.9780\t4106.2379\n",
            "8\t0.9825\t3426.0480\n",
            "9\t0.9846\t3067.2838\n",
            "10\t0.9865\t2734.5617\n"
          ]
        }
      ]
    },
    {
      "cell_type": "code",
      "source": [],
      "metadata": {
        "id": "flRMcSC_0ytt"
      },
      "execution_count": 11,
      "outputs": []
    }
  ]
}