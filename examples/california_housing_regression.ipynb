{
  "nbformat": 4,
  "nbformat_minor": 0,
  "metadata": {
    "colab": {
      "provenance": []
    },
    "kernelspec": {
      "name": "python3",
      "display_name": "Python 3"
    },
    "language_info": {
      "name": "python"
    }
  },
  "cells": [
    {
      "cell_type": "markdown",
      "source": [
        "# California Housing Regression Example\n",
        "\n",
        "This example demonstrates how to use MicroKeras for a regression task using the California Housing dataset. We'll build a model to predict housing prices based on various features."
      ],
      "metadata": {
        "id": "Rf83ojrv6UuF"
      }
    },
    {
      "cell_type": "markdown",
      "source": [
        "## Importing Dependencies\n",
        "\n",
        "First, let's install import the necessary modules:\n",
        "\n",
        "*Note: You might need to restart your Google Colab Session after installing microkeras.*"
      ],
      "metadata": {
        "id": "KEdLaHop6jVo"
      }
    },
    {
      "cell_type": "code",
      "source": [
        "!pip install microkeras"
      ],
      "metadata": {
        "id": "LTXpFxRU6erT"
      },
      "execution_count": null,
      "outputs": []
    },
    {
      "cell_type": "code",
      "execution_count": 2,
      "metadata": {
        "id": "PYfHiUfjXr9F"
      },
      "outputs": [],
      "source": [
        "import numpy as np\n",
        "from microkeras.models import Sequential\n",
        "from microkeras.layers import Dense\n",
        "from microkeras.optimizers import SGD\n",
        "from microkeras.datasets import california_housing"
      ]
    },
    {
      "cell_type": "markdown",
      "source": [
        "## Loading and Preprocessing Data\n",
        "\n",
        "Next, we'll load the California Housing dataset and preprocess it:"
      ],
      "metadata": {
        "id": "U3uhptC_6ygR"
      }
    },
    {
      "cell_type": "code",
      "source": [
        "# Load and preprocess California Housing data\n",
        "(X_train, y_train), (X_test, y_test) = california_housing.load_data()\n",
        "\n",
        "# Reshape y to be 2D\n",
        "y_train = y_train.reshape(-1, 1)\n",
        "y_test = y_test.reshape(-1, 1)"
      ],
      "metadata": {
        "id": "djFNkOpS6wWy"
      },
      "execution_count": 3,
      "outputs": []
    },
    {
      "cell_type": "markdown",
      "source": [
        "## Creating the Model\n",
        "\n",
        "Now, let's create our Sequential model:\n"
      ],
      "metadata": {
        "id": "53FrhWXq7Ij1"
      }
    },
    {
      "cell_type": "code",
      "source": [
        "model = Sequential([\n",
        "    Dense(128, activation='relu', input_shape=(8,)),\n",
        "    Dense(64, activation='relu'),\n",
        "    Dense(32, activation='relu'),\n",
        "    Dense(1, activation='linear')\n",
        "])"
      ],
      "metadata": {
        "id": "MIBaeqA57Fyg"
      },
      "execution_count": 4,
      "outputs": []
    },
    {
      "cell_type": "markdown",
      "source": [
        "This model consists of three hidden layers with ReLU activation and an output layer with linear activation, suitable for regression tasks.\n"
      ],
      "metadata": {
        "id": "dXYCpI_z7OFR"
      }
    },
    {
      "cell_type": "markdown",
      "source": [
        "## Compiling the Model\n",
        "\n",
        "We'll compile the model using Stochastic Gradient Descent (SGD) as the optimizer and Mean Squared Error (MSE) as the loss function:\n",
        "\n"
      ],
      "metadata": {
        "id": "2e4a9oWJ7QF3"
      }
    },
    {
      "cell_type": "code",
      "source": [
        "optimizer = SGD(learning_rate=0.01)\n",
        "model.compile(optimizer=optimizer,\n",
        "              loss='mean_squared_error',\n",
        "              metrics=[])"
      ],
      "metadata": {
        "id": "wTTYlP347S-8"
      },
      "execution_count": 5,
      "outputs": []
    },
    {
      "cell_type": "markdown",
      "source": [
        "## Training the Model\n",
        "\n",
        "Let's train the model for 100 epochs with a batch size of 16:\n"
      ],
      "metadata": {
        "id": "agrL2lMI7SE7"
      }
    },
    {
      "cell_type": "code",
      "source": [
        "history = model.fit(X_train,\n",
        "                    y_train,\n",
        "                    batch_size=16,\n",
        "                    epochs=100)"
      ],
      "metadata": {
        "colab": {
          "base_uri": "https://localhost:8080/"
        },
        "id": "WUTTUeWf7cXg",
        "outputId": "08fb367c-ed62-4d5a-ad84-c3d4caeddca2"
      },
      "execution_count": 6,
      "outputs": [
        {
          "output_type": "stream",
          "name": "stdout",
          "text": [
            "Epoch 1/100\n"
          ]
        },
        {
          "output_type": "stream",
          "name": "stderr",
          "text": [
            "Batch 1032/1032 - Loss: 1.1183: : 1088it [00:04, 220.54it/s]\n"
          ]
        },
        {
          "output_type": "stream",
          "name": "stdout",
          "text": [
            "Epoch 2/100\n"
          ]
        },
        {
          "output_type": "stream",
          "name": "stderr",
          "text": [
            "Batch 1032/1032 - Loss: 0.6722: : 1088it [00:05, 183.74it/s]\n"
          ]
        },
        {
          "output_type": "stream",
          "name": "stdout",
          "text": [
            "Epoch 3/100\n"
          ]
        },
        {
          "output_type": "stream",
          "name": "stderr",
          "text": [
            "Batch 1032/1032 - Loss: 1.0607: : 1088it [00:02, 417.53it/s]\n"
          ]
        },
        {
          "output_type": "stream",
          "name": "stdout",
          "text": [
            "Epoch 4/100\n"
          ]
        },
        {
          "output_type": "stream",
          "name": "stderr",
          "text": [
            "Batch 1032/1032 - Loss: 0.6741: : 1088it [00:02, 402.56it/s]\n"
          ]
        },
        {
          "output_type": "stream",
          "name": "stdout",
          "text": [
            "Epoch 5/100\n"
          ]
        },
        {
          "output_type": "stream",
          "name": "stderr",
          "text": [
            "Batch 1032/1032 - Loss: 0.5054: : 1088it [00:02, 414.89it/s]\n"
          ]
        },
        {
          "output_type": "stream",
          "name": "stdout",
          "text": [
            "Epoch 6/100\n"
          ]
        },
        {
          "output_type": "stream",
          "name": "stderr",
          "text": [
            "Batch 1032/1032 - Loss: 0.4565: : 1088it [00:03, 359.30it/s]\n"
          ]
        },
        {
          "output_type": "stream",
          "name": "stdout",
          "text": [
            "Epoch 7/100\n"
          ]
        },
        {
          "output_type": "stream",
          "name": "stderr",
          "text": [
            "Batch 1032/1032 - Loss: 0.4609: : 1088it [00:03, 293.42it/s]\n"
          ]
        },
        {
          "output_type": "stream",
          "name": "stdout",
          "text": [
            "Epoch 8/100\n"
          ]
        },
        {
          "output_type": "stream",
          "name": "stderr",
          "text": [
            "Batch 1032/1032 - Loss: 0.3998: : 1088it [00:01, 935.64it/s]\n"
          ]
        },
        {
          "output_type": "stream",
          "name": "stdout",
          "text": [
            "Epoch 9/100\n"
          ]
        },
        {
          "output_type": "stream",
          "name": "stderr",
          "text": [
            "Batch 1032/1032 - Loss: 0.3967: : 1088it [00:01, 749.94it/s]\n"
          ]
        },
        {
          "output_type": "stream",
          "name": "stdout",
          "text": [
            "Epoch 10/100\n"
          ]
        },
        {
          "output_type": "stream",
          "name": "stderr",
          "text": [
            "Batch 1032/1032 - Loss: 0.4167: : 1088it [00:01, 931.63it/s]\n"
          ]
        },
        {
          "output_type": "stream",
          "name": "stdout",
          "text": [
            "Epoch 11/100\n"
          ]
        },
        {
          "output_type": "stream",
          "name": "stderr",
          "text": [
            "Batch 1032/1032 - Loss: 0.3581: : 1088it [00:01, 950.13it/s]\n"
          ]
        },
        {
          "output_type": "stream",
          "name": "stdout",
          "text": [
            "Epoch 12/100\n"
          ]
        },
        {
          "output_type": "stream",
          "name": "stderr",
          "text": [
            "Batch 1032/1032 - Loss: 0.4041: : 1088it [00:01, 953.57it/s]\n"
          ]
        },
        {
          "output_type": "stream",
          "name": "stdout",
          "text": [
            "Epoch 13/100\n"
          ]
        },
        {
          "output_type": "stream",
          "name": "stderr",
          "text": [
            "Batch 1032/1032 - Loss: 0.4365: : 1088it [00:01, 919.69it/s]\n"
          ]
        },
        {
          "output_type": "stream",
          "name": "stdout",
          "text": [
            "Epoch 14/100\n"
          ]
        },
        {
          "output_type": "stream",
          "name": "stderr",
          "text": [
            "Batch 1032/1032 - Loss: 0.3296: : 1088it [00:01, 963.54it/s]\n"
          ]
        },
        {
          "output_type": "stream",
          "name": "stdout",
          "text": [
            "Epoch 15/100\n"
          ]
        },
        {
          "output_type": "stream",
          "name": "stderr",
          "text": [
            "Batch 1032/1032 - Loss: 0.4221: : 1088it [00:01, 711.44it/s]\n"
          ]
        },
        {
          "output_type": "stream",
          "name": "stdout",
          "text": [
            "Epoch 16/100\n"
          ]
        },
        {
          "output_type": "stream",
          "name": "stderr",
          "text": [
            "Batch 1032/1032 - Loss: 0.4065: : 1088it [00:01, 642.93it/s]\n"
          ]
        },
        {
          "output_type": "stream",
          "name": "stdout",
          "text": [
            "Epoch 17/100\n"
          ]
        },
        {
          "output_type": "stream",
          "name": "stderr",
          "text": [
            "Batch 1032/1032 - Loss: 0.4208: : 1088it [00:01, 730.57it/s]\n"
          ]
        },
        {
          "output_type": "stream",
          "name": "stdout",
          "text": [
            "Epoch 18/100\n"
          ]
        },
        {
          "output_type": "stream",
          "name": "stderr",
          "text": [
            "Batch 1032/1032 - Loss: 0.3616: : 1088it [00:01, 926.60it/s]\n"
          ]
        },
        {
          "output_type": "stream",
          "name": "stdout",
          "text": [
            "Epoch 19/100\n"
          ]
        },
        {
          "output_type": "stream",
          "name": "stderr",
          "text": [
            "Batch 1032/1032 - Loss: 0.3971: : 1088it [00:01, 945.46it/s]\n"
          ]
        },
        {
          "output_type": "stream",
          "name": "stdout",
          "text": [
            "Epoch 20/100\n"
          ]
        },
        {
          "output_type": "stream",
          "name": "stderr",
          "text": [
            "Batch 1032/1032 - Loss: 0.3777: : 1088it [00:01, 633.45it/s]\n"
          ]
        },
        {
          "output_type": "stream",
          "name": "stdout",
          "text": [
            "Epoch 21/100\n"
          ]
        },
        {
          "output_type": "stream",
          "name": "stderr",
          "text": [
            "Batch 1032/1032 - Loss: 0.3755: : 1088it [00:01, 910.37it/s]\n"
          ]
        },
        {
          "output_type": "stream",
          "name": "stdout",
          "text": [
            "Epoch 22/100\n"
          ]
        },
        {
          "output_type": "stream",
          "name": "stderr",
          "text": [
            "Batch 1032/1032 - Loss: 0.3548: : 1088it [00:01, 916.69it/s]\n"
          ]
        },
        {
          "output_type": "stream",
          "name": "stdout",
          "text": [
            "Epoch 23/100\n"
          ]
        },
        {
          "output_type": "stream",
          "name": "stderr",
          "text": [
            "Batch 1032/1032 - Loss: 0.3281: : 1088it [00:01, 619.09it/s]\n"
          ]
        },
        {
          "output_type": "stream",
          "name": "stdout",
          "text": [
            "Epoch 24/100\n"
          ]
        },
        {
          "output_type": "stream",
          "name": "stderr",
          "text": [
            "Batch 1032/1032 - Loss: 0.3204: : 1088it [00:02, 440.99it/s]\n"
          ]
        },
        {
          "output_type": "stream",
          "name": "stdout",
          "text": [
            "Epoch 25/100\n"
          ]
        },
        {
          "output_type": "stream",
          "name": "stderr",
          "text": [
            "Batch 1032/1032 - Loss: 0.3577: : 1088it [00:03, 338.82it/s]\n"
          ]
        },
        {
          "output_type": "stream",
          "name": "stdout",
          "text": [
            "Epoch 26/100\n"
          ]
        },
        {
          "output_type": "stream",
          "name": "stderr",
          "text": [
            "Batch 1032/1032 - Loss: 0.4114: : 1088it [00:02, 536.37it/s]\n"
          ]
        },
        {
          "output_type": "stream",
          "name": "stdout",
          "text": [
            "Epoch 27/100\n"
          ]
        },
        {
          "output_type": "stream",
          "name": "stderr",
          "text": [
            "Batch 1032/1032 - Loss: 0.3685: : 1088it [00:01, 673.21it/s]\n"
          ]
        },
        {
          "output_type": "stream",
          "name": "stdout",
          "text": [
            "Epoch 28/100\n"
          ]
        },
        {
          "output_type": "stream",
          "name": "stderr",
          "text": [
            "Batch 1032/1032 - Loss: 0.4015: : 1088it [00:01, 943.08it/s]\n"
          ]
        },
        {
          "output_type": "stream",
          "name": "stdout",
          "text": [
            "Epoch 29/100\n"
          ]
        },
        {
          "output_type": "stream",
          "name": "stderr",
          "text": [
            "Batch 1032/1032 - Loss: 0.3554: : 1088it [00:01, 904.34it/s]\n"
          ]
        },
        {
          "output_type": "stream",
          "name": "stdout",
          "text": [
            "Epoch 30/100\n"
          ]
        },
        {
          "output_type": "stream",
          "name": "stderr",
          "text": [
            "Batch 1032/1032 - Loss: 0.3640: : 1088it [00:01, 955.63it/s]\n"
          ]
        },
        {
          "output_type": "stream",
          "name": "stdout",
          "text": [
            "Epoch 31/100\n"
          ]
        },
        {
          "output_type": "stream",
          "name": "stderr",
          "text": [
            "Batch 1032/1032 - Loss: 0.3522: : 1088it [00:01, 952.57it/s]\n"
          ]
        },
        {
          "output_type": "stream",
          "name": "stdout",
          "text": [
            "Epoch 32/100\n"
          ]
        },
        {
          "output_type": "stream",
          "name": "stderr",
          "text": [
            "Batch 1032/1032 - Loss: 0.3565: : 1088it [00:01, 852.52it/s]\n"
          ]
        },
        {
          "output_type": "stream",
          "name": "stdout",
          "text": [
            "Epoch 33/100\n"
          ]
        },
        {
          "output_type": "stream",
          "name": "stderr",
          "text": [
            "Batch 1032/1032 - Loss: 0.2835: : 1088it [00:01, 663.16it/s]\n"
          ]
        },
        {
          "output_type": "stream",
          "name": "stdout",
          "text": [
            "Epoch 34/100\n"
          ]
        },
        {
          "output_type": "stream",
          "name": "stderr",
          "text": [
            "Batch 1032/1032 - Loss: 0.2785: : 1088it [00:01, 661.03it/s]\n"
          ]
        },
        {
          "output_type": "stream",
          "name": "stdout",
          "text": [
            "Epoch 35/100\n"
          ]
        },
        {
          "output_type": "stream",
          "name": "stderr",
          "text": [
            "Batch 1032/1032 - Loss: 0.2398: : 1088it [00:01, 955.39it/s]\n"
          ]
        },
        {
          "output_type": "stream",
          "name": "stdout",
          "text": [
            "Epoch 36/100\n"
          ]
        },
        {
          "output_type": "stream",
          "name": "stderr",
          "text": [
            "Batch 1032/1032 - Loss: 0.2698: : 1088it [00:01, 929.69it/s]\n"
          ]
        },
        {
          "output_type": "stream",
          "name": "stdout",
          "text": [
            "Epoch 37/100\n"
          ]
        },
        {
          "output_type": "stream",
          "name": "stderr",
          "text": [
            "Batch 1032/1032 - Loss: 0.2949: : 1088it [00:01, 930.60it/s]\n"
          ]
        },
        {
          "output_type": "stream",
          "name": "stdout",
          "text": [
            "Epoch 38/100\n"
          ]
        },
        {
          "output_type": "stream",
          "name": "stderr",
          "text": [
            "Batch 1032/1032 - Loss: 0.3623: : 1088it [00:01, 921.08it/s]\n"
          ]
        },
        {
          "output_type": "stream",
          "name": "stdout",
          "text": [
            "Epoch 39/100\n"
          ]
        },
        {
          "output_type": "stream",
          "name": "stderr",
          "text": [
            "Batch 1032/1032 - Loss: 0.3090: : 1088it [00:01, 928.27it/s]\n"
          ]
        },
        {
          "output_type": "stream",
          "name": "stdout",
          "text": [
            "Epoch 40/100\n"
          ]
        },
        {
          "output_type": "stream",
          "name": "stderr",
          "text": [
            "Batch 1032/1032 - Loss: 0.2925: : 1088it [00:01, 938.96it/s]\n"
          ]
        },
        {
          "output_type": "stream",
          "name": "stdout",
          "text": [
            "Epoch 41/100\n"
          ]
        },
        {
          "output_type": "stream",
          "name": "stderr",
          "text": [
            "Batch 1032/1032 - Loss: 0.3304: : 1088it [00:01, 914.81it/s]\n"
          ]
        },
        {
          "output_type": "stream",
          "name": "stdout",
          "text": [
            "Epoch 42/100\n"
          ]
        },
        {
          "output_type": "stream",
          "name": "stderr",
          "text": [
            "Batch 1032/1032 - Loss: 0.3104: : 1088it [00:01, 930.47it/s]\n"
          ]
        },
        {
          "output_type": "stream",
          "name": "stdout",
          "text": [
            "Epoch 43/100\n"
          ]
        },
        {
          "output_type": "stream",
          "name": "stderr",
          "text": [
            "Batch 1032/1032 - Loss: 0.3031: : 1088it [00:01, 681.29it/s]\n"
          ]
        },
        {
          "output_type": "stream",
          "name": "stdout",
          "text": [
            "Epoch 44/100\n"
          ]
        },
        {
          "output_type": "stream",
          "name": "stderr",
          "text": [
            "Batch 1032/1032 - Loss: 0.2828: : 1088it [00:01, 646.57it/s]\n"
          ]
        },
        {
          "output_type": "stream",
          "name": "stdout",
          "text": [
            "Epoch 45/100\n"
          ]
        },
        {
          "output_type": "stream",
          "name": "stderr",
          "text": [
            "Batch 1032/1032 - Loss: 0.3031: : 1088it [00:01, 794.05it/s]\n"
          ]
        },
        {
          "output_type": "stream",
          "name": "stdout",
          "text": [
            "Epoch 46/100\n"
          ]
        },
        {
          "output_type": "stream",
          "name": "stderr",
          "text": [
            "Batch 1032/1032 - Loss: 0.2756: : 1088it [00:01, 963.86it/s]\n"
          ]
        },
        {
          "output_type": "stream",
          "name": "stdout",
          "text": [
            "Epoch 47/100\n"
          ]
        },
        {
          "output_type": "stream",
          "name": "stderr",
          "text": [
            "Batch 1032/1032 - Loss: 0.3220: : 1088it [00:01, 964.12it/s]\n"
          ]
        },
        {
          "output_type": "stream",
          "name": "stdout",
          "text": [
            "Epoch 48/100\n"
          ]
        },
        {
          "output_type": "stream",
          "name": "stderr",
          "text": [
            "Batch 1032/1032 - Loss: 0.2932: : 1088it [00:01, 946.86it/s]\n"
          ]
        },
        {
          "output_type": "stream",
          "name": "stdout",
          "text": [
            "Epoch 49/100\n"
          ]
        },
        {
          "output_type": "stream",
          "name": "stderr",
          "text": [
            "Batch 1032/1032 - Loss: 0.3151: : 1088it [00:01, 945.42it/s]\n"
          ]
        },
        {
          "output_type": "stream",
          "name": "stdout",
          "text": [
            "Epoch 50/100\n"
          ]
        },
        {
          "output_type": "stream",
          "name": "stderr",
          "text": [
            "Batch 1032/1032 - Loss: 0.3766: : 1088it [00:01, 922.79it/s]\n"
          ]
        },
        {
          "output_type": "stream",
          "name": "stdout",
          "text": [
            "Epoch 51/100\n"
          ]
        },
        {
          "output_type": "stream",
          "name": "stderr",
          "text": [
            "Batch 1032/1032 - Loss: 0.2758: : 1088it [00:01, 928.13it/s]\n"
          ]
        },
        {
          "output_type": "stream",
          "name": "stdout",
          "text": [
            "Epoch 52/100\n"
          ]
        },
        {
          "output_type": "stream",
          "name": "stderr",
          "text": [
            "Batch 1032/1032 - Loss: 0.2764: : 1088it [00:01, 921.57it/s]\n"
          ]
        },
        {
          "output_type": "stream",
          "name": "stdout",
          "text": [
            "Epoch 53/100\n"
          ]
        },
        {
          "output_type": "stream",
          "name": "stderr",
          "text": [
            "Batch 1032/1032 - Loss: 0.2936: : 1088it [00:01, 723.26it/s]\n"
          ]
        },
        {
          "output_type": "stream",
          "name": "stdout",
          "text": [
            "Epoch 54/100\n"
          ]
        },
        {
          "output_type": "stream",
          "name": "stderr",
          "text": [
            "Batch 1032/1032 - Loss: 0.2900: : 1088it [00:01, 652.86it/s]\n"
          ]
        },
        {
          "output_type": "stream",
          "name": "stdout",
          "text": [
            "Epoch 55/100\n"
          ]
        },
        {
          "output_type": "stream",
          "name": "stderr",
          "text": [
            "Batch 1032/1032 - Loss: 0.3552: : 1088it [00:01, 685.85it/s]\n"
          ]
        },
        {
          "output_type": "stream",
          "name": "stdout",
          "text": [
            "Epoch 56/100\n"
          ]
        },
        {
          "output_type": "stream",
          "name": "stderr",
          "text": [
            "Batch 1032/1032 - Loss: 0.3097: : 1088it [00:01, 936.29it/s]\n"
          ]
        },
        {
          "output_type": "stream",
          "name": "stdout",
          "text": [
            "Epoch 57/100\n"
          ]
        },
        {
          "output_type": "stream",
          "name": "stderr",
          "text": [
            "Batch 1032/1032 - Loss: 0.3320: : 1088it [00:01, 956.08it/s]\n"
          ]
        },
        {
          "output_type": "stream",
          "name": "stdout",
          "text": [
            "Epoch 58/100\n"
          ]
        },
        {
          "output_type": "stream",
          "name": "stderr",
          "text": [
            "Batch 1032/1032 - Loss: 0.2902: : 1088it [00:01, 941.53it/s]\n"
          ]
        },
        {
          "output_type": "stream",
          "name": "stdout",
          "text": [
            "Epoch 59/100\n"
          ]
        },
        {
          "output_type": "stream",
          "name": "stderr",
          "text": [
            "Batch 1032/1032 - Loss: 0.2844: : 1088it [00:01, 948.69it/s]\n"
          ]
        },
        {
          "output_type": "stream",
          "name": "stdout",
          "text": [
            "Epoch 60/100\n"
          ]
        },
        {
          "output_type": "stream",
          "name": "stderr",
          "text": [
            "Batch 1032/1032 - Loss: 0.3014: : 1088it [00:01, 915.05it/s]\n"
          ]
        },
        {
          "output_type": "stream",
          "name": "stdout",
          "text": [
            "Epoch 61/100\n"
          ]
        },
        {
          "output_type": "stream",
          "name": "stderr",
          "text": [
            "Batch 1032/1032 - Loss: 0.2390: : 1088it [00:01, 944.53it/s]\n"
          ]
        },
        {
          "output_type": "stream",
          "name": "stdout",
          "text": [
            "Epoch 62/100\n"
          ]
        },
        {
          "output_type": "stream",
          "name": "stderr",
          "text": [
            "Batch 1032/1032 - Loss: 0.3058: : 1088it [00:01, 935.38it/s]\n"
          ]
        },
        {
          "output_type": "stream",
          "name": "stdout",
          "text": [
            "Epoch 63/100\n"
          ]
        },
        {
          "output_type": "stream",
          "name": "stderr",
          "text": [
            "Batch 1032/1032 - Loss: 0.3015: : 1088it [00:01, 912.80it/s]\n"
          ]
        },
        {
          "output_type": "stream",
          "name": "stdout",
          "text": [
            "Epoch 64/100\n"
          ]
        },
        {
          "output_type": "stream",
          "name": "stderr",
          "text": [
            "Batch 1032/1032 - Loss: 0.2762: : 1088it [00:01, 642.04it/s]\n"
          ]
        },
        {
          "output_type": "stream",
          "name": "stdout",
          "text": [
            "Epoch 65/100\n"
          ]
        },
        {
          "output_type": "stream",
          "name": "stderr",
          "text": [
            "Batch 1032/1032 - Loss: 0.2751: : 1088it [00:01, 627.37it/s]\n"
          ]
        },
        {
          "output_type": "stream",
          "name": "stdout",
          "text": [
            "Epoch 66/100\n"
          ]
        },
        {
          "output_type": "stream",
          "name": "stderr",
          "text": [
            "Batch 1032/1032 - Loss: 0.2952: : 1088it [00:01, 901.43it/s]\n"
          ]
        },
        {
          "output_type": "stream",
          "name": "stdout",
          "text": [
            "Epoch 67/100\n"
          ]
        },
        {
          "output_type": "stream",
          "name": "stderr",
          "text": [
            "Batch 1032/1032 - Loss: 0.3057: : 1088it [00:01, 911.52it/s]\n"
          ]
        },
        {
          "output_type": "stream",
          "name": "stdout",
          "text": [
            "Epoch 68/100\n"
          ]
        },
        {
          "output_type": "stream",
          "name": "stderr",
          "text": [
            "Batch 1032/1032 - Loss: 0.2383: : 1088it [00:01, 922.67it/s]\n"
          ]
        },
        {
          "output_type": "stream",
          "name": "stdout",
          "text": [
            "Epoch 69/100\n"
          ]
        },
        {
          "output_type": "stream",
          "name": "stderr",
          "text": [
            "Batch 1032/1032 - Loss: 0.3605: : 1088it [00:01, 916.08it/s]\n"
          ]
        },
        {
          "output_type": "stream",
          "name": "stdout",
          "text": [
            "Epoch 70/100\n"
          ]
        },
        {
          "output_type": "stream",
          "name": "stderr",
          "text": [
            "Batch 1032/1032 - Loss: 0.2301: : 1088it [00:01, 950.05it/s] \n"
          ]
        },
        {
          "output_type": "stream",
          "name": "stdout",
          "text": [
            "Epoch 71/100\n"
          ]
        },
        {
          "output_type": "stream",
          "name": "stderr",
          "text": [
            "Batch 1032/1032 - Loss: 0.3604: : 1088it [00:01, 931.45it/s]\n"
          ]
        },
        {
          "output_type": "stream",
          "name": "stdout",
          "text": [
            "Epoch 72/100\n"
          ]
        },
        {
          "output_type": "stream",
          "name": "stderr",
          "text": [
            "Batch 1032/1032 - Loss: 0.2683: : 1088it [00:01, 904.94it/s]\n"
          ]
        },
        {
          "output_type": "stream",
          "name": "stdout",
          "text": [
            "Epoch 73/100\n"
          ]
        },
        {
          "output_type": "stream",
          "name": "stderr",
          "text": [
            "Batch 1032/1032 - Loss: 0.2978: : 1088it [00:01, 931.83it/s]\n"
          ]
        },
        {
          "output_type": "stream",
          "name": "stdout",
          "text": [
            "Epoch 74/100\n"
          ]
        },
        {
          "output_type": "stream",
          "name": "stderr",
          "text": [
            "Batch 1032/1032 - Loss: 0.2527: : 1088it [00:01, 661.49it/s]\n"
          ]
        },
        {
          "output_type": "stream",
          "name": "stdout",
          "text": [
            "Epoch 75/100\n"
          ]
        },
        {
          "output_type": "stream",
          "name": "stderr",
          "text": [
            "Batch 1032/1032 - Loss: 0.2942: : 1088it [00:01, 624.27it/s]\n"
          ]
        },
        {
          "output_type": "stream",
          "name": "stdout",
          "text": [
            "Epoch 76/100\n"
          ]
        },
        {
          "output_type": "stream",
          "name": "stderr",
          "text": [
            "Batch 1032/1032 - Loss: 0.2808: : 1088it [00:01, 813.13it/s]\n"
          ]
        },
        {
          "output_type": "stream",
          "name": "stdout",
          "text": [
            "Epoch 77/100\n"
          ]
        },
        {
          "output_type": "stream",
          "name": "stderr",
          "text": [
            "Batch 1032/1032 - Loss: 0.2776: : 1088it [00:01, 928.45it/s]\n"
          ]
        },
        {
          "output_type": "stream",
          "name": "stdout",
          "text": [
            "Epoch 78/100\n"
          ]
        },
        {
          "output_type": "stream",
          "name": "stderr",
          "text": [
            "Batch 1032/1032 - Loss: 0.2969: : 1088it [00:01, 933.75it/s]\n"
          ]
        },
        {
          "output_type": "stream",
          "name": "stdout",
          "text": [
            "Epoch 79/100\n"
          ]
        },
        {
          "output_type": "stream",
          "name": "stderr",
          "text": [
            "Batch 1032/1032 - Loss: 0.3162: : 1088it [00:01, 941.37it/s]\n"
          ]
        },
        {
          "output_type": "stream",
          "name": "stdout",
          "text": [
            "Epoch 80/100\n"
          ]
        },
        {
          "output_type": "stream",
          "name": "stderr",
          "text": [
            "Batch 1032/1032 - Loss: 0.3313: : 1088it [00:01, 937.18it/s]\n"
          ]
        },
        {
          "output_type": "stream",
          "name": "stdout",
          "text": [
            "Epoch 81/100\n"
          ]
        },
        {
          "output_type": "stream",
          "name": "stderr",
          "text": [
            "Batch 1032/1032 - Loss: 0.2865: : 1088it [00:01, 813.19it/s]\n"
          ]
        },
        {
          "output_type": "stream",
          "name": "stdout",
          "text": [
            "Epoch 82/100\n"
          ]
        },
        {
          "output_type": "stream",
          "name": "stderr",
          "text": [
            "Batch 1032/1032 - Loss: 0.3106: : 1088it [00:01, 943.26it/s]\n"
          ]
        },
        {
          "output_type": "stream",
          "name": "stdout",
          "text": [
            "Epoch 83/100\n"
          ]
        },
        {
          "output_type": "stream",
          "name": "stderr",
          "text": [
            "Batch 1032/1032 - Loss: 0.2896: : 1088it [00:01, 943.85it/s]\n"
          ]
        },
        {
          "output_type": "stream",
          "name": "stdout",
          "text": [
            "Epoch 84/100\n"
          ]
        },
        {
          "output_type": "stream",
          "name": "stderr",
          "text": [
            "Batch 1032/1032 - Loss: 0.3039: : 1088it [00:01, 697.06it/s]\n"
          ]
        },
        {
          "output_type": "stream",
          "name": "stdout",
          "text": [
            "Epoch 85/100\n"
          ]
        },
        {
          "output_type": "stream",
          "name": "stderr",
          "text": [
            "Batch 1032/1032 - Loss: 0.3596: : 1088it [00:01, 657.42it/s]\n"
          ]
        },
        {
          "output_type": "stream",
          "name": "stdout",
          "text": [
            "Epoch 86/100\n"
          ]
        },
        {
          "output_type": "stream",
          "name": "stderr",
          "text": [
            "Batch 1032/1032 - Loss: 0.2456: : 1088it [00:01, 754.25it/s]\n"
          ]
        },
        {
          "output_type": "stream",
          "name": "stdout",
          "text": [
            "Epoch 87/100\n"
          ]
        },
        {
          "output_type": "stream",
          "name": "stderr",
          "text": [
            "Batch 1032/1032 - Loss: 0.2790: : 1088it [00:01, 928.64it/s]\n"
          ]
        },
        {
          "output_type": "stream",
          "name": "stdout",
          "text": [
            "Epoch 88/100\n"
          ]
        },
        {
          "output_type": "stream",
          "name": "stderr",
          "text": [
            "Batch 1032/1032 - Loss: 0.2470: : 1088it [00:01, 926.06it/s]\n"
          ]
        },
        {
          "output_type": "stream",
          "name": "stdout",
          "text": [
            "Epoch 89/100\n"
          ]
        },
        {
          "output_type": "stream",
          "name": "stderr",
          "text": [
            "Batch 1032/1032 - Loss: 0.2460: : 1088it [00:01, 881.60it/s]\n"
          ]
        },
        {
          "output_type": "stream",
          "name": "stdout",
          "text": [
            "Epoch 90/100\n"
          ]
        },
        {
          "output_type": "stream",
          "name": "stderr",
          "text": [
            "Batch 1032/1032 - Loss: 0.2600: : 1088it [00:01, 948.77it/s]\n"
          ]
        },
        {
          "output_type": "stream",
          "name": "stdout",
          "text": [
            "Epoch 91/100\n"
          ]
        },
        {
          "output_type": "stream",
          "name": "stderr",
          "text": [
            "Batch 1032/1032 - Loss: 0.2555: : 1088it [00:01, 933.85it/s]\n"
          ]
        },
        {
          "output_type": "stream",
          "name": "stdout",
          "text": [
            "Epoch 92/100\n"
          ]
        },
        {
          "output_type": "stream",
          "name": "stderr",
          "text": [
            "Batch 1032/1032 - Loss: 0.3018: : 1088it [00:01, 947.67it/s]\n"
          ]
        },
        {
          "output_type": "stream",
          "name": "stdout",
          "text": [
            "Epoch 93/100\n"
          ]
        },
        {
          "output_type": "stream",
          "name": "stderr",
          "text": [
            "Batch 1032/1032 - Loss: 0.2513: : 1088it [00:01, 907.34it/s]\n"
          ]
        },
        {
          "output_type": "stream",
          "name": "stdout",
          "text": [
            "Epoch 94/100\n"
          ]
        },
        {
          "output_type": "stream",
          "name": "stderr",
          "text": [
            "Batch 1032/1032 - Loss: 0.2343: : 1088it [00:01, 776.40it/s]\n"
          ]
        },
        {
          "output_type": "stream",
          "name": "stdout",
          "text": [
            "Epoch 95/100\n"
          ]
        },
        {
          "output_type": "stream",
          "name": "stderr",
          "text": [
            "Batch 1032/1032 - Loss: 0.2573: : 1088it [00:01, 658.79it/s]\n"
          ]
        },
        {
          "output_type": "stream",
          "name": "stdout",
          "text": [
            "Epoch 96/100\n"
          ]
        },
        {
          "output_type": "stream",
          "name": "stderr",
          "text": [
            "Batch 1032/1032 - Loss: 0.2832: : 1088it [00:01, 642.20it/s]\n"
          ]
        },
        {
          "output_type": "stream",
          "name": "stdout",
          "text": [
            "Epoch 97/100\n"
          ]
        },
        {
          "output_type": "stream",
          "name": "stderr",
          "text": [
            "Batch 1032/1032 - Loss: 0.2012: : 1088it [00:01, 936.96it/s]\n"
          ]
        },
        {
          "output_type": "stream",
          "name": "stdout",
          "text": [
            "Epoch 98/100\n"
          ]
        },
        {
          "output_type": "stream",
          "name": "stderr",
          "text": [
            "Batch 1032/1032 - Loss: 0.2743: : 1088it [00:01, 940.92it/s]\n"
          ]
        },
        {
          "output_type": "stream",
          "name": "stdout",
          "text": [
            "Epoch 99/100\n"
          ]
        },
        {
          "output_type": "stream",
          "name": "stderr",
          "text": [
            "Batch 1032/1032 - Loss: 0.2237: : 1088it [00:01, 890.62it/s]\n"
          ]
        },
        {
          "output_type": "stream",
          "name": "stdout",
          "text": [
            "Epoch 100/100\n"
          ]
        },
        {
          "output_type": "stream",
          "name": "stderr",
          "text": [
            "Batch 1032/1032 - Loss: 0.2898: : 1088it [00:01, 903.47it/s]\n"
          ]
        }
      ]
    },
    {
      "cell_type": "markdown",
      "source": [
        "## Evaluating the Model\n",
        "\n",
        "After training, we can evaluate the model on the test set:\n"
      ],
      "metadata": {
        "id": "rxyA4MRm7iYj"
      }
    },
    {
      "cell_type": "code",
      "source": [
        "test_mse = model.evaluate(X_test, y_test)\n",
        "print(f\"Test MSE: {test_mse:.4f}\")"
      ],
      "metadata": {
        "colab": {
          "base_uri": "https://localhost:8080/"
        },
        "id": "-7rdnJIu7ewo",
        "outputId": "976a9da8-f7fd-476c-912b-86c553acebc1"
      },
      "execution_count": 7,
      "outputs": [
        {
          "output_type": "stream",
          "name": "stdout",
          "text": [
            "Test MSE: 0.3325\n"
          ]
        }
      ]
    },
    {
      "cell_type": "markdown",
      "source": [
        "## Making Predictions\n",
        "\n",
        "Let's make predictions for the first 5 test samples:\n"
      ],
      "metadata": {
        "id": "2Zzj12sz8IVi"
      }
    },
    {
      "cell_type": "code",
      "source": [
        "predictions = model.predict(X_test[:5])\n",
        "print(\"Predictions for the first 5 test samples:\")\n",
        "print(predictions.flatten())\n",
        "print(\"Actual values:\")\n",
        "print(y_test[:5].flatten())"
      ],
      "metadata": {
        "colab": {
          "base_uri": "https://localhost:8080/"
        },
        "id": "lrXA8nhW8HE3",
        "outputId": "07cf20d5-f914-408c-9625-0d4b2bcf4137"
      },
      "execution_count": 8,
      "outputs": [
        {
          "output_type": "stream",
          "name": "stdout",
          "text": [
            "Predictions for the first 5 test samples:\n",
            "[0.50417322 1.0510164  4.579818   2.80260055 3.1033866 ]\n",
            "Actual values:\n",
            "[0.477   0.458   5.00001 2.186   2.78   ]\n"
          ]
        }
      ]
    },
    {
      "cell_type": "markdown",
      "source": [
        "## Saving and Loading the Model\n",
        "\n",
        "MicroKeras allows you to save and load models:"
      ],
      "metadata": {
        "id": "MjyL-JEH8PNF"
      }
    },
    {
      "cell_type": "code",
      "source": [
        "# Save the model\n",
        "model.save('california_housing_model.json')\n",
        "\n",
        "# Load the model\n",
        "loaded_model = Sequential.load('california_housing_model.json')\n",
        "\n",
        "# Compile the loaded model\n",
        "loaded_model.compile(optimizer=optimizer,\n",
        "                     loss='mean_squared_error',\n",
        "                     metrics=[])\n",
        "\n",
        "# Evaluate the loaded model\n",
        "loaded_test_mse = loaded_model.evaluate(X_test, y_test)\n",
        "print(f\"Loaded model test MSE: {loaded_test_mse:.4f}\")\n"
      ],
      "metadata": {
        "colab": {
          "base_uri": "https://localhost:8080/"
        },
        "id": "ZrussCVv8OgW",
        "outputId": "56e9fb74-1b7d-419b-c259-3cc37e40cc2a"
      },
      "execution_count": 9,
      "outputs": [
        {
          "output_type": "stream",
          "name": "stdout",
          "text": [
            "Loaded model test MSE: 0.3325\n"
          ]
        }
      ]
    },
    {
      "cell_type": "markdown",
      "source": [
        "## Viewing Training History\n",
        "\n",
        "Finally, let's print out the training history:\n"
      ],
      "metadata": {
        "id": "AfF2AKB58Zjn"
      }
    },
    {
      "cell_type": "code",
      "source": [
        "print(\"\\nTraining History:\")\n",
        "print(\"Epoch\\tLoss\")\n",
        "for epoch, loss in enumerate(history['loss'], 1):\n",
        "    print(f\"{epoch}\\t{loss:.4f}\")"
      ],
      "metadata": {
        "colab": {
          "base_uri": "https://localhost:8080/"
        },
        "id": "uj3pOlHf8cI8",
        "outputId": "c33d6b39-cf3b-446d-c8bc-e2045f5d0a4f"
      },
      "execution_count": 10,
      "outputs": [
        {
          "output_type": "stream",
          "name": "stdout",
          "text": [
            "\n",
            "Training History:\n",
            "Epoch\tLoss\n",
            "1\t2.5730\n",
            "2\t0.6453\n",
            "3\t1.6912\n",
            "4\t0.5023\n",
            "5\t0.4681\n",
            "6\t0.4526\n",
            "7\t0.4364\n",
            "8\t0.4238\n",
            "9\t0.4137\n",
            "10\t0.4079\n",
            "11\t0.3999\n",
            "12\t0.3928\n",
            "13\t0.3874\n",
            "14\t0.3846\n",
            "15\t0.3788\n",
            "16\t0.3755\n",
            "17\t0.3887\n",
            "18\t0.3711\n",
            "19\t0.3686\n",
            "20\t0.3639\n",
            "21\t0.3615\n",
            "22\t0.3587\n",
            "23\t0.3618\n",
            "24\t0.3525\n",
            "25\t0.3495\n",
            "26\t0.3500\n",
            "27\t0.3463\n",
            "28\t0.3442\n",
            "29\t0.3428\n",
            "30\t0.3415\n",
            "31\t0.3397\n",
            "32\t0.3399\n",
            "33\t0.3380\n",
            "34\t0.3337\n",
            "35\t0.3322\n",
            "36\t0.3311\n",
            "37\t0.3304\n",
            "38\t0.3281\n",
            "39\t0.3290\n",
            "40\t0.3252\n",
            "41\t0.3245\n",
            "42\t0.3224\n",
            "43\t0.3252\n",
            "44\t0.3200\n",
            "45\t0.3194\n",
            "46\t0.3186\n",
            "47\t0.3181\n",
            "48\t0.3164\n",
            "49\t0.3187\n",
            "50\t0.3160\n",
            "51\t0.3142\n",
            "52\t0.3120\n",
            "53\t0.3129\n",
            "54\t0.3130\n",
            "55\t0.3108\n",
            "56\t0.3105\n",
            "57\t0.3086\n",
            "58\t0.3099\n",
            "59\t0.3086\n",
            "60\t0.3076\n",
            "61\t0.3061\n",
            "62\t0.3069\n",
            "63\t0.3094\n",
            "64\t0.3044\n",
            "65\t0.3028\n",
            "66\t0.3028\n",
            "67\t0.3049\n",
            "68\t0.3010\n",
            "69\t0.3005\n",
            "70\t0.2998\n",
            "71\t0.3007\n",
            "72\t0.3010\n",
            "73\t0.2971\n",
            "74\t0.2976\n",
            "75\t0.2968\n",
            "76\t0.2956\n",
            "77\t0.2946\n",
            "78\t0.2946\n",
            "79\t0.2935\n",
            "80\t0.2931\n",
            "81\t0.2930\n",
            "82\t0.2917\n",
            "83\t0.2906\n",
            "84\t0.2912\n",
            "85\t0.2899\n",
            "86\t0.2894\n",
            "87\t0.2884\n",
            "88\t0.2924\n",
            "89\t0.2867\n",
            "90\t0.2864\n",
            "91\t0.2849\n",
            "92\t0.2858\n",
            "93\t0.2847\n",
            "94\t0.2864\n",
            "95\t0.2863\n",
            "96\t0.2841\n",
            "97\t0.2862\n",
            "98\t0.2839\n",
            "99\t0.2826\n",
            "100\t0.2876\n"
          ]
        }
      ]
    },
    {
      "cell_type": "markdown",
      "source": [
        "This example demonstrates how to use MicroKeras for a regression task, including model creation, training, evaluation, prediction, and model saving/loading.\n"
      ],
      "metadata": {
        "id": "LZ5-8kMy8hLN"
      }
    }
  ]
}